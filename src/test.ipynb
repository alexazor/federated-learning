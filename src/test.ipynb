{
 "cells": [
  {
   "cell_type": "markdown",
   "source": [
    "# Load Data"
   ],
   "metadata": {
    "collapsed": false
   }
  },
  {
   "cell_type": "code",
   "execution_count": 36,
   "outputs": [],
   "source": [
    "from utils import get_data\n",
    "n_clients = 3\n",
    "X, y, X_test, y_test = get_data(n_clients=n_clients)"
   ],
   "metadata": {
    "collapsed": false
   }
  },
  {
   "cell_type": "markdown",
   "source": [
    "# Using Paillier cryptosystem"
   ],
   "metadata": {
    "collapsed": false
   }
  },
  {
   "cell_type": "code",
   "execution_count": 37,
   "outputs": [],
   "source": [
    "import phe as paillier\n",
    "key_length=1024\n",
    "pubkey, privkey = paillier.generate_paillier_keypair(n_length=key_length)"
   ],
   "metadata": {
    "collapsed": false
   }
  },
  {
   "cell_type": "code",
   "execution_count": 38,
   "outputs": [],
   "source": [
    "# define encrypt and decrypt function for this cryptosystem\n",
    "def encrypt(pubkey, value):\n",
    "    return pubkey.encrypt(value)\n",
    "\n",
    "def decrypt(privkey, value):\n",
    "    return privkey.decrypt(value)"
   ],
   "metadata": {
    "collapsed": false
   }
  },
  {
   "cell_type": "markdown",
   "source": [
    "## Creating server"
   ],
   "metadata": {
    "collapsed": false
   }
  },
  {
   "cell_type": "code",
   "execution_count": 39,
   "outputs": [],
   "source": [
    "from src.server import Server"
   ],
   "metadata": {
    "collapsed": false
   }
  },
  {
   "cell_type": "code",
   "execution_count": 40,
   "outputs": [],
   "source": [
    "server = Server(privkey, pubkey, decrypt)"
   ],
   "metadata": {
    "collapsed": false
   }
  },
  {
   "cell_type": "markdown",
   "source": [
    "## Creating Models"
   ],
   "metadata": {
    "collapsed": false
   }
  },
  {
   "cell_type": "markdown",
   "source": [
    "### MLP"
   ],
   "metadata": {
    "collapsed": false
   }
  },
  {
   "cell_type": "code",
   "execution_count": 41,
   "outputs": [],
   "source": [
    "from src.model import get_model_mlp"
   ],
   "metadata": {
    "collapsed": false
   }
  },
  {
   "cell_type": "code",
   "execution_count": 42,
   "outputs": [],
   "source": [
    "nb_input = 10\n",
    "default_mlp = get_model_mlp(10, lr = 0.01)"
   ],
   "metadata": {
    "collapsed": false
   }
  },
  {
   "cell_type": "markdown",
   "source": [
    "\n",
    "## Creating clients"
   ],
   "metadata": {
    "collapsed": false
   }
  },
  {
   "cell_type": "code",
   "execution_count": 43,
   "outputs": [],
   "source": [
    "from src.client import Client\n",
    "import copy"
   ],
   "metadata": {
    "collapsed": false
   }
  },
  {
   "cell_type": "code",
   "execution_count": 34,
   "outputs": [],
   "source": [
    "clients = {}\n",
    "for i in range(3):\n",
    "    id = i+1\n",
    "    data = X[i]\n",
    "    target = y[i]\n",
    "    model = copy.deepcopy(default_mlp)\n",
    "    client = Client(id, pubkey, model, data, target, encrypt)\n",
    "    clients[id] = client"
   ],
   "metadata": {
    "collapsed": false
   }
  },
  {
   "cell_type": "code",
   "execution_count": null,
   "outputs": [],
   "source": [
    "# Federated Learning with encryption\n",
    "    for i in range(n_iter):\n",
    "        if i % 50 == 0:\n",
    "            print(i)\n",
    "        # Compute gradients, encrypt and aggregate\n",
    "        encrypt_aggr = None\n",
    "        for i in range(n_clients):\n",
    "            encrypt_aggr = clients[i].encrypted_gradient(sum_to=encrypt_aggr)\n",
    "        # Send aggregate to server and decrypt it\n",
    "        aggr = None\n",
    "        try:\n",
    "            aggr = server.decrypt_list_of_aggregate(encrypt_aggr, n_clients)\n",
    "        except Exception:\n",
    "            aggr = server.decrypt_aggregate(encrypt_aggr, n_clients)\n",
    "\n",
    "        # Take gradient steps\n",
    "        for c in clients:\n",
    "            c.gradient_step(aggr)\n",
    "\n",
    "    return client"
   ],
   "metadata": {
    "collapsed": false
   }
  }
 ],
 "metadata": {
  "kernelspec": {
   "display_name": "Python 3",
   "language": "python",
   "name": "python3"
  },
  "language_info": {
   "codemirror_mode": {
    "name": "ipython",
    "version": 2
   },
   "file_extension": ".py",
   "mimetype": "text/x-python",
   "name": "python",
   "nbconvert_exporter": "python",
   "pygments_lexer": "ipython2",
   "version": "2.7.6"
  }
 },
 "nbformat": 4,
 "nbformat_minor": 0
}
