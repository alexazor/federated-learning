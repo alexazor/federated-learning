{
 "cells": [
  {
   "cell_type": "code",
   "execution_count": null,
   "metadata": {},
   "outputs": [],
   "source": [
    "from src.client import Client"
   ]
  },
  {
   "cell_type": "code",
   "execution_count": null,
   "metadata": {},
   "outputs": [],
   "source": [
    "names = ['Hospital 1', 'Hospital 2', 'Hospital 3']\n",
    "n_clients = len(names)\n",
    "X, y, X_test, y_test = get_data(n_clients)\n",
    "# clients = local_learning(names, n_clients, X, y, get_mlp_client, n_iter = 1000)\n",
    "\n",
    "\n",
    "\n",
    "\n",
    "clients = federated_learning(names, n_clients, X, y, get_mlp_client, n_iter=100)\n",
    "for client, xx, yy in zip(clients, X_test, y_test):\n",
    "    print(\"\")\n",
    "    pred = client.predict(xx)\n",
    "    print(mean_square_error(pred, yy))"
   ]
  },
  {
   "attachments": {},
   "cell_type": "markdown",
   "metadata": {},
   "source": [
    "# Creating clients"
   ]
  },
  {
   "cell_type": "code",
   "execution_count": null,
   "metadata": {},
   "outputs": [],
   "source": [
    "names = ['Hospital 1', 'Hospital 2', 'Hospital 3']\n",
    "n_clients = len(names)\n",
    "X, y, X_test, y_test = get_data(n_clients)\n",
    "# clients = local_learning(names, n_clients, X, y, get_mlp_client, n_iter = 1000)\n",
    "\n",
    "\n",
    "\n",
    "\n",
    "clients = federated_learning(names, n_clients, X, y, get_mlp_client, n_iter=100)\n",
    "for client, xx, yy in zip(clients, X_test, y_test):\n",
    "    print(\"\")\n",
    "    pred = client.predict(xx)\n",
    "    print(mean_square_error(pred, yy))"
   ]
  },
  {
   "cell_type": "code",
   "execution_count": null,
   "metadata": {},
   "outputs": [],
   "source": [
    "names = ['Hospital 1', 'Hospital 2', 'Hospital 3']\n",
    "n_clients = len(names)\n",
    "X, y, X_test, y_test = get_data(n_clients)\n",
    "# clients = local_learning(names, n_clients, X, y, get_mlp_client, n_iter = 1000)\n",
    "\n",
    "\n",
    "\n",
    "\n",
    "clients = federated_learning(names, n_clients, X, y, get_mlp_client, n_iter=100)\n",
    "for client, xx, yy in zip(clients, X_test, y_test):\n",
    "    print(\"\")\n",
    "    pred = client.predict(xx)\n",
    "    print(mean_square_error(pred, yy))"
   ]
  },
  {
   "cell_type": "code",
   "execution_count": null,
   "metadata": {},
   "outputs": [],
   "source": [
    "names = ['Hospital 1', 'Hospital 2', 'Hospital 3']\n",
    "n_clients = len(names)\n",
    "X, y, X_test, y_test = get_data(n_clients)\n",
    "# clients = local_learning(names, n_clients, X, y, get_mlp_client, n_iter = 1000)\n",
    "\n",
    "\n",
    "\n",
    "\n",
    "clients = federated_learning(names, n_clients, X, y, get_mlp_client, n_iter=100)\n",
    "for client, xx, yy in zip(clients, X_test, y_test):\n",
    "    print(\"\")\n",
    "    pred = client.predict(xx)\n",
    "    print(mean_square_error(pred, yy))"
   ]
  }
 ],
 "metadata": {
  "kernelspec": {
   "display_name": "neo-env-02",
   "language": "python",
   "name": "python3"
  },
  "language_info": {
   "name": "python",
   "version": "3.9.15 (main, Nov 24 2022, 14:39:17) [MSC v.1916 64 bit (AMD64)]"
  },
  "orig_nbformat": 4,
  "vscode": {
   "interpreter": {
    "hash": "c8838089fe8c483d31338473a3850a7eaa617e5492d0cdb9fdf5dbb234df1360"
   }
  }
 },
 "nbformat": 4,
 "nbformat_minor": 2
}
