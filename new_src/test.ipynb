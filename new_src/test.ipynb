{
 "cells": [
  {
   "cell_type": "code",
   "execution_count": 1,
   "metadata": {},
   "outputs": [],
   "source": [
    "from learning import FederatedLearning\n",
    "import numpy as np"
   ]
  },
  {
   "attachments": {},
   "cell_type": "markdown",
   "metadata": {},
   "source": [
    "## Local learning"
   ]
  },
  {
   "cell_type": "code",
   "execution_count": 2,
   "metadata": {},
   "outputs": [],
   "source": [
    "fl_nn_ckks = FederatedLearning(3, \"MLP\", \"ckks\")"
   ]
  },
  {
   "cell_type": "code",
   "execution_count": 3,
   "metadata": {},
   "outputs": [
    {
     "name": "stdout",
     "output_type": "stream",
     "text": [
      "Iteration : 0\n",
      "Iteration : 250\n",
      "Iteration : 0\n",
      "Iteration : 250\n",
      "Iteration : 0\n",
      "Iteration : 250\n",
      "MSE 1: 4675.640941727287\n",
      "MSE 2: 4829.549278663267\n",
      "MSE 3: 4575.008973500496\n",
      "Mean MSE : 4693.399731297017\n",
      "Execution Time : 0.42256808280944824\n"
     ]
    }
   ],
   "source": [
    "mse = fl_nn_ckks.local_learning_mse()"
   ]
  },
  {
   "cell_type": "code",
   "execution_count": 4,
   "metadata": {},
   "outputs": [],
   "source": [
    "fl_nn_pail = FederatedLearning(3, \"MLP\", \"paillier\")"
   ]
  },
  {
   "cell_type": "code",
   "execution_count": 5,
   "metadata": {},
   "outputs": [
    {
     "name": "stdout",
     "output_type": "stream",
     "text": [
      "Iteration : 0\n",
      "Iteration : 250\n",
      "Iteration : 0\n",
      "Iteration : 250\n",
      "Iteration : 0\n",
      "Iteration : 250\n",
      "MSE 1: 4675.640941727287\n",
      "MSE 2: 4829.549278663267\n",
      "MSE 3: 4575.008973500496\n",
      "Mean MSE : 4693.399731297017\n",
      "Execution Time : 0.4754149913787842\n"
     ]
    }
   ],
   "source": [
    "mse = fl_nn_pail.local_learning_mse()"
   ]
  },
  {
   "cell_type": "code",
   "execution_count": 6,
   "metadata": {},
   "outputs": [],
   "source": [
    "fl_lreg_ckks = FederatedLearning(3, \"lreg\", \"ckks\")"
   ]
  },
  {
   "cell_type": "code",
   "execution_count": 7,
   "metadata": {},
   "outputs": [
    {
     "name": "stdout",
     "output_type": "stream",
     "text": [
      "Iteration : 0\n",
      "Iteration : 250\n",
      "Iteration : 0\n",
      "Iteration : 250\n",
      "Iteration : 0\n",
      "Iteration : 250\n",
      "MSE 1: 3639.461090942854\n",
      "MSE 2: 4286.404514947821\n",
      "MSE 3: 3951.616217404826\n",
      "Mean MSE : 3959.160607765167\n",
      "Execution Time : 0.012866973876953125\n"
     ]
    }
   ],
   "source": [
    "mse = fl_lreg_ckks.local_learning_mse()"
   ]
  },
  {
   "cell_type": "code",
   "execution_count": 8,
   "metadata": {},
   "outputs": [],
   "source": [
    "fl_lreg_pail = FederatedLearning(3, \"lreg\", \"paillier\")"
   ]
  },
  {
   "cell_type": "code",
   "execution_count": 9,
   "metadata": {},
   "outputs": [
    {
     "name": "stdout",
     "output_type": "stream",
     "text": [
      "Iteration : 0\n",
      "Iteration : 250\n",
      "Iteration : 0\n",
      "Iteration : 250\n",
      "Iteration : 0\n",
      "Iteration : 250\n",
      "MSE 1: 3639.461090942854\n",
      "MSE 2: 4286.404514947821\n",
      "MSE 3: 3951.616217404826\n",
      "Mean MSE : 3959.160607765167\n",
      "Execution Time : 0.017126083374023438\n"
     ]
    }
   ],
   "source": [
    "mse = fl_lreg_pail.local_learning_mse()"
   ]
  },
  {
   "cell_type": "code",
   "execution_count": null,
   "metadata": {},
   "outputs": [],
   "source": []
  },
  {
   "attachments": {},
   "cell_type": "markdown",
   "metadata": {},
   "source": [
    "## Federated Learning"
   ]
  },
  {
   "attachments": {},
   "cell_type": "markdown",
   "metadata": {},
   "source": [
    "#### Test chiffrage/déchiffrage gradients"
   ]
  },
  {
   "cell_type": "code",
   "execution_count": 4,
   "metadata": {},
   "outputs": [],
   "source": [
    "fl2 = FederatedLearning(3, \"MLP\", \"ckks\")"
   ]
  },
  {
   "cell_type": "code",
   "execution_count": 5,
   "metadata": {},
   "outputs": [],
   "source": [
    "grad = fl2.clients[0].compute_gradient()\n",
    "grad2 = fl2.clients[1].compute_gradient()"
   ]
  },
  {
   "cell_type": "code",
   "execution_count": 6,
   "metadata": {},
   "outputs": [
    {
     "data": {
      "text/plain": [
       "[array([[-4.30559129e-01, -2.15257704e-01, -2.68746924e+00,\n",
       "         -2.05375171e+00, -1.89424431e+00, -1.81000996e+00,\n",
       "          3.25244999e+00, -3.79414487e+00, -4.56061316e+00,\n",
       "         -2.26868057e+00, -3.06981812e+02]]),\n",
       " array([-306.98178101])]"
      ]
     },
     "execution_count": 6,
     "metadata": {},
     "output_type": "execute_result"
    }
   ],
   "source": [
    "grad"
   ]
  },
  {
   "cell_type": "code",
   "execution_count": 7,
   "metadata": {},
   "outputs": [
    {
     "data": {
      "text/plain": [
       "[array([[  -3.19530845,   -0.71525609,   -4.06607485,   -4.6958909 ,\n",
       "           -1.08900201,   -0.91706306,    4.43101025,   -3.99649882,\n",
       "           -4.63939524,   -3.56659293, -315.22467041]]),\n",
       " array([-315.22470093])]"
      ]
     },
     "execution_count": 7,
     "metadata": {},
     "output_type": "execute_result"
    }
   ],
   "source": [
    "grad2"
   ]
  },
  {
   "cell_type": "code",
   "execution_count": 8,
   "metadata": {},
   "outputs": [],
   "source": [
    "sum_grad = []\n",
    "for i in range(len(grad)):\n",
    "    sum_grad.append(grad[i] + grad2[i])"
   ]
  },
  {
   "cell_type": "code",
   "execution_count": 9,
   "metadata": {},
   "outputs": [
    {
     "data": {
      "text/plain": [
       "[array([[  -3.62586758,   -0.9305138 ,   -6.75354409,   -6.74964261,\n",
       "           -2.98324633,   -2.72707301,    7.68346024,   -7.79064369,\n",
       "           -9.20000839,   -5.8352735 , -622.20648193]]),\n",
       " array([-622.20648193])]"
      ]
     },
     "execution_count": 9,
     "metadata": {},
     "output_type": "execute_result"
    }
   ],
   "source": [
    "sum_grad"
   ]
  },
  {
   "cell_type": "code",
   "execution_count": 10,
   "metadata": {},
   "outputs": [],
   "source": [
    "egs = fl2.clients[0].encrypt.encrypt_gradients(grad)\n",
    "egs2 = fl2.clients[1].encrypt.encrypt_gradients(grad2)"
   ]
  },
  {
   "cell_type": "code",
   "execution_count": 11,
   "metadata": {},
   "outputs": [],
   "source": [
    "sum_egs = fl2.clients[1].encrypt.sum_encrypted_gradients(egs, egs2)"
   ]
  },
  {
   "cell_type": "code",
   "execution_count": 12,
   "metadata": {},
   "outputs": [],
   "source": [
    "sum_gs = fl2.server.give_clear_gradient(sum_egs)"
   ]
  },
  {
   "cell_type": "code",
   "execution_count": 13,
   "metadata": {},
   "outputs": [
    {
     "data": {
      "text/plain": [
       "[array([[  -3.62586758,   -0.9305138 ,   -6.75354409,   -6.74964261,\n",
       "           -2.98324633,   -2.72707301,    7.68346024,   -7.79064369,\n",
       "           -9.20000839,   -5.8352735 , -622.20648193]]),\n",
       " array([-622.20648193])]"
      ]
     },
     "execution_count": 13,
     "metadata": {},
     "output_type": "execute_result"
    }
   ],
   "source": [
    "sum_gs"
   ]
  },
  {
   "attachments": {},
   "cell_type": "markdown",
   "metadata": {},
   "source": [
    "### Test FL"
   ]
  },
  {
   "cell_type": "code",
   "execution_count": 10,
   "metadata": {},
   "outputs": [
    {
     "name": "stdout",
     "output_type": "stream",
     "text": [
      "Iteration 0\n",
      "Iteration 50\n",
      "Iteration 100\n",
      "Iteration 150\n",
      "Iteration 200\n",
      "Iteration 250\n",
      "Iteration 300\n",
      "Iteration 350\n",
      "Iteration 400\n",
      "Iteration 450\n",
      "MSE 1: 4680.519075894104\n",
      "MSE 2: 4680.519075894104\n",
      "MSE 3: 4680.519075894104\n",
      "Mean MSE : 4680.519075894104\n",
      "Execution Time : 35.688886880874634\n"
     ]
    }
   ],
   "source": [
    "fl2 = FederatedLearning(3, \"MLP\", \"ckks\")\n",
    "mse2 = fl2.federated_learning_mse()"
   ]
  },
  {
   "attachments": {},
   "cell_type": "markdown",
   "metadata": {},
   "source": [
    "Amélioration de la performance : a retest : a début j'avais oublié de diviser par n_clients et j'ai eu un meilleur res"
   ]
  },
  {
   "cell_type": "code",
   "execution_count": 7,
   "metadata": {},
   "outputs": [
    {
     "name": "stdout",
     "output_type": "stream",
     "text": [
      "Iteration 0\n",
      "Iteration 50\n",
      "Iteration 100\n",
      "Iteration 150\n",
      "Iteration 200\n",
      "Iteration 250\n",
      "Iteration 300\n",
      "Iteration 350\n",
      "Iteration 400\n",
      "Iteration 450\n",
      "MSE 1: 4688.575316484701\n",
      "MSE 2: 4682.468534558458\n",
      "MSE 3: 4668.669984588702\n",
      "Execution Time : 267.5012791156769\n"
     ]
    }
   ],
   "source": [
    "fl4 = FederatedLearning(3, \"MLP\", \"paillier\")\n",
    "mse4 = fl4.federated_learning_mse()"
   ]
  },
  {
   "cell_type": "code",
   "execution_count": 11,
   "metadata": {},
   "outputs": [
    {
     "name": "stdout",
     "output_type": "stream",
     "text": [
      "Iteration 0\n",
      "Iteration 50\n",
      "Iteration 100\n",
      "Iteration 150\n",
      "Iteration 200\n",
      "Iteration 250\n",
      "Iteration 300\n",
      "Iteration 350\n",
      "Iteration 400\n",
      "Iteration 450\n",
      "MSE 1: 3883.0301445674118\n",
      "MSE 2: 3883.0301445674118\n",
      "MSE 3: 3883.0301445674118\n",
      "Mean MSE : 3883.0301445674118\n",
      "Execution Time : 29.271847248077393\n"
     ]
    }
   ],
   "source": [
    "fl3 = FederatedLearning(3, \"lreg\", \"ckks\")\n",
    "mse3 = fl3.federated_learning_mse()"
   ]
  },
  {
   "attachments": {},
   "cell_type": "markdown",
   "metadata": {},
   "source": [
    "Amélioration des performances"
   ]
  },
  {
   "cell_type": "code",
   "execution_count": 6,
   "metadata": {},
   "outputs": [
    {
     "name": "stdout",
     "output_type": "stream",
     "text": [
      "Iteration 0\n",
      "Iteration 50\n",
      "Iteration 100\n",
      "Iteration 150\n",
      "Iteration 200\n",
      "Iteration 250\n",
      "Iteration 300\n",
      "Iteration 350\n",
      "Iteration 400\n",
      "Iteration 450\n",
      "MSE 1: 3883.0301445674386\n",
      "MSE 2: 3883.0301445674386\n",
      "MSE 3: 3883.0301445674386\n",
      "Execution Time : 247.03608918190002\n"
     ]
    }
   ],
   "source": [
    "fl5 = FederatedLearning(3, \"lreg\", \"paillier\")\n",
    "mse5 = fl5.federated_learning_mse()"
   ]
  },
  {
   "attachments": {},
   "cell_type": "markdown",
   "metadata": {},
   "source": [
    "Amélioration des perfs. Pareil que pour lreg CKKS. Mais 8x plus long."
   ]
  },
  {
   "cell_type": "code",
   "execution_count": null,
   "metadata": {},
   "outputs": [],
   "source": []
  }
 ],
 "metadata": {
  "kernelspec": {
   "display_name": "FLHE",
   "language": "python",
   "name": "python3"
  },
  "language_info": {
   "codemirror_mode": {
    "name": "ipython",
    "version": 3
   },
   "file_extension": ".py",
   "mimetype": "text/x-python",
   "name": "python",
   "nbconvert_exporter": "python",
   "pygments_lexer": "ipython3",
   "version": "3.10.6"
  },
  "orig_nbformat": 4,
  "vscode": {
   "interpreter": {
    "hash": "7e8e462170e259c1b10ab6e50e0eae3f6ec3b73935838256d1ca713a793ec63b"
   }
  }
 },
 "nbformat": 4,
 "nbformat_minor": 2
}
